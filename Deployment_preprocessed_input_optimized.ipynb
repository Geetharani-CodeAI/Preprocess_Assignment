{
 "cells": [
  {
   "cell_type": "code",
   "execution_count": 40,
   "id": "3986d394-65ab-4d23-a38d-515cee52bc11",
   "metadata": {},
   "outputs": [],
   "source": [
    "import pandas as pd\n",
    "from sklearn.model_selection import train_test_split\n",
    "from sklearn.preprocessing import StandardScaler\n",
    "import joblib"
   ]
  },
  {
   "cell_type": "code",
   "execution_count": 41,
   "id": "51ab4573-405d-4d55-9984-46780783fd07",
   "metadata": {},
   "outputs": [],
   "source": [
    "dataset=pd.get_dummies(pd.read_csv(\"50_Startups.csv\"),dtype=int,drop_first=True)\n",
    "indep = dataset.drop(columns = \"Profit\")\n",
    "dep = dataset[['Profit']]\n",
    "X_train,X_test,Y_train,Y_test = train_test_split(indep,dep,test_size=0.30,random_state=0)"
   ]
  },
  {
   "cell_type": "code",
   "execution_count": 42,
   "id": "44345218-19c0-403a-a907-af2a6ab970f2",
   "metadata": {},
   "outputs": [
    {
     "data": {
      "text/plain": [
       "['sc.joblib']"
      ]
     },
     "execution_count": 42,
     "metadata": {},
     "output_type": "execute_result"
    }
   ],
   "source": [
    "sc=StandardScaler()\n",
    "X_train = sc.fit_transform(X_train)\n",
    "X_test = sc.transform(X_test)\n",
    "joblib.dump(sc,\"sc.joblib\")"
   ]
  },
  {
   "cell_type": "code",
   "execution_count": 43,
   "id": "448b2ae6-c2a9-4159-ad13-54adc32d6199",
   "metadata": {},
   "outputs": [
    {
     "name": "stderr",
     "output_type": "stream",
     "text": [
      "C:\\Users\\Hxtreme\\anaconda3\\Lib\\site-packages\\sklearn\\base.py:493: UserWarning: X does not have valid feature names, but StandardScaler was fitted with feature names\n",
      "  warnings.warn(\n"
     ]
    },
    {
     "data": {
      "text/plain": [
       "array([41466.274])"
      ]
     },
     "execution_count": 43,
     "metadata": {},
     "output_type": "execute_result"
    }
   ],
   "source": [
    "preinput = sc.transform([[1300,434,324,0,0]])\n",
    "loaded_model = joblib.load(open(\"Final_model.sav\",'rb'))\n",
    "result = loaded_model.predict(preinput)\n",
    "result"
   ]
  },
  {
   "cell_type": "code",
   "execution_count": null,
   "id": "6a825ae2-cbf9-4ecc-a63d-1f15632ae0ff",
   "metadata": {},
   "outputs": [],
   "source": []
  }
 ],
 "metadata": {
  "kernelspec": {
   "display_name": "Python 3 (ipykernel)",
   "language": "python",
   "name": "python3"
  },
  "language_info": {
   "codemirror_mode": {
    "name": "ipython",
    "version": 3
   },
   "file_extension": ".py",
   "mimetype": "text/x-python",
   "name": "python",
   "nbconvert_exporter": "python",
   "pygments_lexer": "ipython3",
   "version": "3.12.7"
  }
 },
 "nbformat": 4,
 "nbformat_minor": 5
}
