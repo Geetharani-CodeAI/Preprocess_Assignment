{
 "cells": [
  {
   "cell_type": "code",
   "execution_count": 15,
   "id": "6a38e4c6-39fd-4c3d-ae60-2a7a07419408",
   "metadata": {},
   "outputs": [],
   "source": [
    "import pandas as pd\n",
    "from sklearn.model_selection import train_test_split\n",
    "from sklearn.preprocessing import StandardScaler\n",
    "import joblib"
   ]
  },
  {
   "cell_type": "code",
   "execution_count": 16,
   "id": "274134b1-2cd3-4bef-9ec2-b104a6739b0e",
   "metadata": {},
   "outputs": [],
   "source": [
    "dataset=pd.get_dummies(pd.read_csv(\"50_Startups.csv\"),dtype=int,drop_first=True)\n",
    "indep = dataset.drop(columns = \"Profit\")\n",
    "dep = dataset[['Profit']]\n",
    "X_train,X_test,Y_train,Y_test = train_test_split(indep,dep,test_size=0.30,random_state=0)"
   ]
  },
  {
   "cell_type": "code",
   "execution_count": 17,
   "id": "04f2a231-f712-4ae8-a0ab-4caf73108b4d",
   "metadata": {},
   "outputs": [
    {
     "data": {
      "text/plain": [
       "['scy.joblib']"
      ]
     },
     "execution_count": 17,
     "metadata": {},
     "output_type": "execute_result"
    }
   ],
   "source": [
    "sc=StandardScaler()\n",
    "X_train = sc.fit_transform(X_train)\n",
    "X_test = sc.transform(X_test)\n",
    "joblib.dump(sc,\"scx.joblib\")\n",
    "\n",
    "scy=StandardScaler()\n",
    "Y_train = scy.fit_transform(Y_train)\n",
    "Y_test = scy.transform(Y_test)\n",
    "joblib.dump(scy,\"scy.joblib\")"
   ]
  },
  {
   "cell_type": "code",
   "execution_count": 18,
   "id": "bcd85fb1-ce58-497e-8feb-2c526fd485d6",
   "metadata": {},
   "outputs": [],
   "source": [
    "import pickle"
   ]
  },
  {
   "cell_type": "code",
   "execution_count": 19,
   "id": "448b2ae6-c2a9-4159-ad13-54adc32d6199",
   "metadata": {},
   "outputs": [
    {
     "name": "stderr",
     "output_type": "stream",
     "text": [
      "C:\\Users\\Hxtreme\\anaconda3\\Lib\\site-packages\\sklearn\\base.py:493: UserWarning: X does not have valid feature names, but StandardScaler was fitted with feature names\n",
      "  warnings.warn(\n"
     ]
    },
    {
     "data": {
      "text/plain": [
       "array([-1.59857316])"
      ]
     },
     "execution_count": 19,
     "metadata": {},
     "output_type": "execute_result"
    }
   ],
   "source": [
    "preinput = sc.transform([[1300,434,324,0,0]])\n",
    "loaded_model = joblib.load(open(\"Finalized_model.sav\",'rb'))\n",
    "result = loaded_model.predict(preinput)\n",
    "result"
   ]
  },
  {
   "cell_type": "code",
   "execution_count": 20,
   "id": "4fa6c38a-2cc4-45d9-8453-cf171ed312ea",
   "metadata": {},
   "outputs": [
    {
     "data": {
      "text/plain": [
       "array([[41466.274]])"
      ]
     },
     "execution_count": 20,
     "metadata": {},
     "output_type": "execute_result"
    }
   ],
   "source": [
    "preoutput = scy.inverse_transform([result])\n",
    "preoutput"
   ]
  },
  {
   "cell_type": "code",
   "execution_count": null,
   "id": "abcdb197-f161-481f-b3cc-f858ea94021d",
   "metadata": {},
   "outputs": [],
   "source": []
  }
 ],
 "metadata": {
  "kernelspec": {
   "display_name": "Python 3 (ipykernel)",
   "language": "python",
   "name": "python3"
  },
  "language_info": {
   "codemirror_mode": {
    "name": "ipython",
    "version": 3
   },
   "file_extension": ".py",
   "mimetype": "text/x-python",
   "name": "python",
   "nbconvert_exporter": "python",
   "pygments_lexer": "ipython3",
   "version": "3.12.7"
  }
 },
 "nbformat": 4,
 "nbformat_minor": 5
}
